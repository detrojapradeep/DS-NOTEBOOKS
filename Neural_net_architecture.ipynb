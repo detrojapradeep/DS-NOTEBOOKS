{
  "nbformat": 4,
  "nbformat_minor": 0,
  "metadata": {
    "colab": {
      "name": "Neural net architecture.ipynb",
      "provenance": [],
      "authorship_tag": "ABX9TyN3pEFIyn38rWFfI7qD2aYL",
      "include_colab_link": true
    },
    "kernelspec": {
      "name": "python3",
      "display_name": "Python 3"
    }
  },
  "cells": [
    {
      "cell_type": "markdown",
      "metadata": {
        "id": "view-in-github",
        "colab_type": "text"
      },
      "source": [
        "<a href=\"https://colab.research.google.com/github/detrojapradeep/DS-NOTEBOOKS/blob/master/Neural_net_architecture.ipynb\" target=\"_parent\"><img src=\"https://colab.research.google.com/assets/colab-badge.svg\" alt=\"Open In Colab\"/></a>"
      ]
    },
    {
      "cell_type": "code",
      "metadata": {
        "id": "2TalA6WfnwtZ",
        "colab_type": "code",
        "colab": {}
      },
      "source": [
        "#THERE ARE A LOT OF ADDons STILL TO DO IN THIS CODE\n",
        "#THIS WAS JUST A SMALL SNIPPET, SO WE CAN GET THE FEEL OF NEURAL NETWORKS"
      ],
      "execution_count": 0,
      "outputs": []
    },
    {
      "cell_type": "code",
      "metadata": {
        "id": "xWjro2W775Bl",
        "colab_type": "code",
        "colab": {}
      },
      "source": [
        "import numpy as np"
      ],
      "execution_count": 0,
      "outputs": []
    },
    {
      "cell_type": "code",
      "metadata": {
        "id": "899zuz1q8CoR",
        "colab_type": "code",
        "colab": {}
      },
      "source": [
        "#Creating a random data\n",
        "\n",
        "data = np.random.randn(10000, 6)"
      ],
      "execution_count": 0,
      "outputs": []
    },
    {
      "cell_type": "code",
      "metadata": {
        "id": "HTRiFu8_8JNt",
        "colab_type": "code",
        "colab": {}
      },
      "source": [
        "#Selecting one row from the data for input in the network\n",
        "\n",
        "input = data[1]\n",
        "input = input.reshape(1, 6)"
      ],
      "execution_count": 0,
      "outputs": []
    },
    {
      "cell_type": "code",
      "metadata": {
        "id": "zpS0k7SP8aRZ",
        "colab_type": "code",
        "colab": {}
      },
      "source": [
        "#Generating matrices for weights having random no.\n",
        "\n",
        "m1 = np.random.randn(6,6)\n",
        "m2 = np.random.randn(6,6)\n",
        "m3 = np.random.randn(6,1)"
      ],
      "execution_count": 0,
      "outputs": []
    },
    {
      "cell_type": "code",
      "metadata": {
        "id": "BKyCYjJq8ucj",
        "colab_type": "code",
        "outputId": "9d31e5b3-dbb6-471f-9567-649ef84120a6",
        "colab": {
          "base_uri": "https://localhost:8080/",
          "height": 35
        }
      },
      "source": [
        "#Architecture for Neural nets\n",
        "#Next layer is the result of dot product of previous layer and weights\n",
        "\n",
        "L2 = np.dot(input, m1)\n",
        "L3 = np.dot(L2, m2)\n",
        "output = np.dot(L3, m3)"
      ],
      "execution_count": 0,
      "outputs": [
        {
          "output_type": "execute_result",
          "data": {
            "text/plain": [
              "array([[-1.90554483]])"
            ]
          },
          "metadata": {
            "tags": []
          },
          "execution_count": 12
        }
      ]
    },
    {
      "cell_type": "code",
      "metadata": {
        "id": "KWD-QpEH8xOi",
        "colab_type": "code",
        "colab": {}
      },
      "source": [
        ""
      ],
      "execution_count": 0,
      "outputs": []
    },
    {
      "cell_type": "code",
      "metadata": {
        "id": "rPNm5SQCmoWw",
        "colab_type": "code",
        "colab": {}
      },
      "source": [
        ""
      ],
      "execution_count": 0,
      "outputs": []
    }
  ]
}