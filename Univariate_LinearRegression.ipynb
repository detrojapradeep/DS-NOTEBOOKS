{
  "nbformat": 4,
  "nbformat_minor": 0,
  "metadata": {
    "colab": {
      "name": "Univariate_LinearRegression.ipynb",
      "provenance": [],
      "collapsed_sections": [],
      "authorship_tag": "ABX9TyP03wnvbKgxgS13aS5Jrrs/",
      "include_colab_link": true
    },
    "kernelspec": {
      "name": "python3",
      "display_name": "Python 3"
    }
  },
  "cells": [
    {
      "cell_type": "markdown",
      "metadata": {
        "id": "view-in-github",
        "colab_type": "text"
      },
      "source": [
        "<a href=\"https://colab.research.google.com/github/detrojapradeep/DS-NOTEBOOKS/blob/master/Univariate_LinearRegression.ipynb\" target=\"_parent\"><img src=\"https://colab.research.google.com/assets/colab-badge.svg\" alt=\"Open In Colab\"/></a>"
      ]
    },
    {
      "cell_type": "code",
      "metadata": {
        "id": "LQXUuTNOEVD1",
        "colab_type": "code",
        "colab": {}
      },
      "source": [
        "#importing the required libraries\n",
        "#PANDAS - for reading the data from a csv file\n",
        "\n",
        "import pandas as pd            \n",
        "import numpy as np\n",
        "import matplotlib.pyplot as plt"
      ],
      "execution_count": 0,
      "outputs": []
    },
    {
      "cell_type": "code",
      "metadata": {
        "id": "CLTw-ThpFqHL",
        "colab_type": "code",
        "colab": {}
      },
      "source": [
        "#read_csv() - this is a pandas function which reads the csv file\n",
        "\n",
        "data = pd.read_csv('sample_data/california_housing_train.csv')"
      ],
      "execution_count": 0,
      "outputs": []
    },
    {
      "cell_type": "code",
      "metadata": {
        "id": "iNhluTogFzeS",
        "colab_type": "code",
        "colab": {}
      },
      "source": [
        "#making varibles  Y_actual and X\n",
        "\n",
        "y_a = data['median_house_value']\n",
        "x = data['total_bedrooms']"
      ],
      "execution_count": 0,
      "outputs": []
    },
    {
      "cell_type": "code",
      "metadata": {
        "id": "CRebwUv5G9l4",
        "colab_type": "code",
        "colab": {}
      },
      "source": [
        "#making functions for line, error, derivatives\n",
        "\n",
        "def line(m, x, c):\n",
        "  return m*x+c \n",
        "\n",
        "def error(y_p, y_a):\n",
        "  return np.mean((y_p - y_a)**2)\n",
        "\n",
        "def derivative_m(y_p, y_a,x):\n",
        "  return 2*np.mean((y_p - y_a)*x)\n",
        "\n",
        "def derivative_c(y_p, y_a):\n",
        "  return 2*np.mean((y_p - y_a))"
      ],
      "execution_count": 0,
      "outputs": []
    },
    {
      "cell_type": "markdown",
      "metadata": {
        "id": "BdlZGs1lo0PJ",
        "colab_type": "text"
      },
      "source": [
        "TRAINING BEGINS FROM HERE:\n",
        "**GRADIENT DESCENT OPTIMIZER**"
      ]
    },
    {
      "cell_type": "code",
      "metadata": {
        "id": "ECIvTqJfQSjF",
        "colab_type": "code",
        "colab": {}
      },
      "source": [
        "m = np.random.randn()\n",
        "c = np.random.randn()\n",
        "\n",
        "steps = 1500\n",
        "alpha = 0.00000001\n",
        "y_p = line(m, x, c)\n",
        "cost = []\n",
        "\n",
        "for iters in range(0,steps):\n",
        "  m = m - alpha*derivative_m(y_p, y_a,x)\n",
        "  c = c - alpha*derivative_c(y_p, y_a)\n",
        "  y_p = line(m,x,c)\n",
        "  print(\"CURRENT iteration IS:\", iters)\n",
        "  print(\"CURRENT ERROR IS:\", error(y_p, y_a))\n",
        "  cost.append(error(y_p, y_a))\n",
        "\n",
        "plt.plot(cost)          #to plot the error values in a graph"
      ],
      "execution_count": 0,
      "outputs": []
    },
    {
      "cell_type": "code",
      "metadata": {
        "id": "Q5mtw6ZXR65q",
        "colab_type": "code",
        "colab": {}
      },
      "source": [
        ""
      ],
      "execution_count": 0,
      "outputs": []
    }
  ]
}